{
 "cells": [
  {
   "cell_type": "code",
   "execution_count": 1,
   "id": "f774ebeb",
   "metadata": {},
   "outputs": [
    {
     "name": "stdout",
     "output_type": "stream",
     "text": [
      "Enter first value : 2\n",
      "Enter second value : 3\n",
      "Enter the operator (+,-,*,/)+\n",
      "5\n"
     ]
    }
   ],
   "source": [
    "val1 = int(input(\"Enter first value : \"))\n",
    "val2 = int(input(\"Enter second value : \"))\n",
    "opr = input(\"Enter the operator (+,-,*,/)\")\n",
    "if opr =='+':\n",
    "    print(val1+val2)\n",
    "elif opr =='-':\n",
    "    print(val1-val2)\n",
    "elif opr =='*':\n",
    "    print(val1*val2)\n",
    "elif opr =='/':\n",
    "    print(val1/val2)\n",
    "else:\n",
    "    print('wrong input program terminated ')"
   ]
  },
  {
   "cell_type": "code",
   "execution_count": 2,
   "id": "ddaf7a2f",
   "metadata": {},
   "outputs": [
    {
     "name": "stdout",
     "output_type": "stream",
     "text": [
      "Enter first value : 2\n",
      "Enter second value : 3\n",
      "Enter the operator (+,-,*,/)-\n",
      "-1\n"
     ]
    }
   ],
   "source": [
    "val1 = int(input(\"Enter first value : \"))\n",
    "val2 = int(input(\"Enter second value : \"))\n",
    "opr = input(\"Enter the operator (+,-,*,/)\")\n",
    "if opr =='+':\n",
    "    print(val1+val2)\n",
    "elif opr =='-':\n",
    "    print(val1-val2)\n",
    "elif opr =='*':\n",
    "    print(val1*val2)\n",
    "elif opr =='/':\n",
    "    print(val1/val2)\n",
    "else:\n",
    "    print('wrong input program terminated ')"
   ]
  },
  {
   "cell_type": "code",
   "execution_count": 3,
   "id": "d2cb3f98",
   "metadata": {},
   "outputs": [
    {
     "name": "stdout",
     "output_type": "stream",
     "text": [
      "Enter first value : 2\n",
      "Enter second value : 3\n",
      "Enter the operator (+,-,*,/)*\n",
      "6\n"
     ]
    }
   ],
   "source": [
    "val1 = int(input(\"Enter first value : \"))\n",
    "val2 = int(input(\"Enter second value : \"))\n",
    "opr = input(\"Enter the operator (+,-,*,/)\")\n",
    "if opr =='+':\n",
    "    print(val1+val2)\n",
    "elif opr =='-':\n",
    "    print(val1-val2)\n",
    "elif opr =='*':\n",
    "    print(val1*val2)\n",
    "elif opr =='/':\n",
    "    print(val1/val2)\n",
    "else:\n",
    "    print('wrong input program terminated ')"
   ]
  },
  {
   "cell_type": "code",
   "execution_count": 4,
   "id": "d504a149",
   "metadata": {},
   "outputs": [
    {
     "name": "stdout",
     "output_type": "stream",
     "text": [
      "Enter first value : 2\n",
      "Enter second value : 3\n",
      "Enter the operator (+,-,*,/)/\n",
      "0.6666666666666666\n"
     ]
    }
   ],
   "source": [
    "val1 = int(input(\"Enter first value : \"))\n",
    "val2 = int(input(\"Enter second value : \"))\n",
    "opr = input(\"Enter the operator (+,-,*,/)\")\n",
    "if opr =='+':\n",
    "    print(val1+val2)\n",
    "elif opr =='-':\n",
    "    print(val1-val2)\n",
    "elif opr =='*':\n",
    "    print(val1*val2)\n",
    "elif opr =='/':\n",
    "    print(val1/val2)\n",
    "else:\n",
    "    print('wrong input program terminated ')"
   ]
  }
 ],
 "metadata": {
  "kernelspec": {
   "display_name": "Python 3 (ipykernel)",
   "language": "python",
   "name": "python3"
  },
  "language_info": {
   "codemirror_mode": {
    "name": "ipython",
    "version": 3
   },
   "file_extension": ".py",
   "mimetype": "text/x-python",
   "name": "python",
   "nbconvert_exporter": "python",
   "pygments_lexer": "ipython3",
   "version": "3.11.4"
  }
 },
 "nbformat": 4,
 "nbformat_minor": 5
}
